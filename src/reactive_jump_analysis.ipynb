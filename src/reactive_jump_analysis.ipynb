{
 "cells": [
  {
   "cell_type": "markdown",
   "id": "a0dabff2",
   "metadata": {},
   "source": [
    "## Reactive Jump Pipeline Analysis\n",
    "Date    :   2025/10/06  \n",
    "Author  :   Salil Apte  \n",
    "Version :   1.0  \n",
    "Contact :   sal1l@pm.me  \n",
    "\n",
    "This notebook demonstrates a full pipeline to compute **Reactive Strength Index (RSI)** from video-based toe position data.  \n",
    "The workflow includes:\n",
    "\n",
    "1. Loading the data\n",
    "2. Detecting jumps (ground contact, toe-off, landing)\n",
    "3. Computing RSI per foot (flight-time and position-peak methods)\n",
    "4. Combining left and right foot RSI and computing asymmetry"
   ]
  },
  {
   "cell_type": "code",
   "execution_count": null,
   "id": "3d69a2cd",
   "metadata": {},
   "outputs": [],
   "source": [
    "# Import Libraries\n",
    "import pickle\n",
    "\n",
    "# Import your existing classes\n",
    "from event_detector import JumpEventDetector\n",
    "from rsi_analyser import RSICalculator"
   ]
  },
  {
   "cell_type": "markdown",
   "id": "a548ba68",
   "metadata": {},
   "source": [
    "### Load Data\n",
    "\n",
    "Load the pickle file with the kinematics data and consider the three columns with left/right toe positions (in global frame) and timestamps.\n",
    "- `toes_r_ty` (right toe vertical position in m)\n",
    "- `toes_l_ty` (left toe vertical position in m)\n",
    "- `time` (s)\n"
   ]
  },
  {
   "cell_type": "code",
   "execution_count": null,
   "id": "e86f238d",
   "metadata": {},
   "outputs": [],
   "source": [
    "# Load data\n",
    "data_dir = (\n",
    "    r\"E:\\repos\\mh-case\\Data\\subject0\\OpenSimData\\Kinematics\\dvj_dl.pkl\"\n",
    ")\n",
    "with open(data_dir, \"rb\") as f:\n",
    "    kinematics = pickle.load(f)\n",
    "\n",
    "# Get body kinematics and generalized coordinates\n",
    "body_kinematics = kinematics[\"body_kinematics\"]\n",
    "generalized_coordinates = kinematics[\"generalized_coordinates\"]\n",
    "\n",
    "right_toe_y = body_kinematics[\"toes_r_ty\"]\n",
    "left_toe_y = body_kinematics[\"toes_l_ty\"]\n",
    "time = body_kinematics[\"time\"]\n",
    "\n",
    "# Preview data\n",
    "body_kinematics.head()"
   ]
  },
  {
   "cell_type": "markdown",
   "id": "b52f74f3",
   "metadata": {},
   "source": [
    "## Detect Jump Events\n",
    "\n",
    "We use the `JumpEventDetector` class to detect:\n",
    "- **Ground contact**: start of stance phase after completing the drop jump\n",
    "- **Toe-off**: end of stance phase before starting the reactive jump\n",
    "- **Landing**: end of flight for reactive jump\n",
    "\n",
    "This class also plots filtered positions and velocities with detected events for inspection.\n"
   ]
  },
  {
   "cell_type": "code",
   "execution_count": null,
   "id": "1ddd7fb6",
   "metadata": {},
   "outputs": [],
   "source": [
    "# Initialize detector\n",
    "detector = JumpEventDetector(time, left_toe_y, right_toe_y)\n",
    "\n",
    "# Plot positions and detected events\n",
    "detector.plot()\n",
    "\n",
    "# Inspect first few detected jumps\n",
    "print(\"Left jumps (ground_contact, toe_off, landing):\", detector.left_jumps[:1])\n",
    "print(\"Right jumps (ground_contact, toe_off, landing):\", detector.right_jumps[:1])"
   ]
  },
  {
   "cell_type": "markdown",
   "id": "ce4a3832",
   "metadata": {},
   "source": [
    "## Compute RSI Per Foot\n",
    "\n",
    "We compute RSI using **two methods**:\n",
    "1. **Flight-time method**: classical approach using time in air\n",
    "2. **Position-peak method**: uses peak vertical displacement\n",
    "\n",
    "The result is a DataFrame for with:\n",
    "- Ground contact time (GCT)\n",
    "- Peak height (flight & peak)\n",
    "- RSI (flight & peak)\n",
    "\n",
    "We combine left and right RSI per jump using the **median** and compute **asymmetry** as a percentage difference:\n",
    "\n",
    "$$\n",
    "\\text{Asymmetry \\%} = 2 \\times \\frac{|RSI_\\text{Left} - RSI_\\text{Right}|}{(RSI_\\text{Left}+ RSI_\\text{Right})} \\times 100\n",
    "$$"
   ]
  },
  {
   "cell_type": "code",
   "execution_count": null,
   "id": "376131ab",
   "metadata": {},
   "outputs": [],
   "source": [
    "rsi_calc = RSICalculator()\n",
    "\n",
    "df_left = rsi_calc.compute_rsi_for_jumps(\n",
    "    time, detector.left_filtered, detector.left_jumps, foot=\"Left\"\n",
    ")\n",
    "df_right = rsi_calc.compute_rsi_for_jumps(\n",
    "    time, detector.right_filtered, detector.right_jumps, foot=\"Right\"\n",
    ")\n",
    "df_combined = rsi_calc.combine_feet(df_left, df_right)\n",
    "\n",
    "# Inspect results\n",
    "df_combined.head()"
   ]
  }
 ],
 "metadata": {
  "kernelspec": {
   "display_name": "mh-case",
   "language": "python",
   "name": "python3"
  },
  "language_info": {
   "codemirror_mode": {
    "name": "ipython",
    "version": 3
   },
   "file_extension": ".py",
   "mimetype": "text/x-python",
   "name": "python",
   "nbconvert_exporter": "python",
   "pygments_lexer": "ipython3",
   "version": "3.10.16"
  }
 },
 "nbformat": 4,
 "nbformat_minor": 5
}
